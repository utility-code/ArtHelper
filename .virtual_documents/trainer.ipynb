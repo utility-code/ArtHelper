from fastai.vision.all import *
from fastai.vision.widgets import *
from sklearn.metrics import classification_report, accuracy_score
from sklearn.metrics import confusion_matrix
import numpy as np # linear algebra
import pandas as pd # data processing, CSV file I/O (e.g. pd.read_csv)
import glob


root_dir = "/media/hdd/Datasets/Landscapes"
path=Path(root_dir)/"sorted"


files= glob.glob(str(path)+"*/*/*")


# failed = verify_images(files)
# failed


# failed = [Path.unlink(x) for x in failed]


fields = DataBlock(blocks=(ImageBlock, CategoryBlock),
   get_items=get_image_files,
   get_y=parent_label,
   splitter=RandomSplitter(valid_pct=0.2, seed=42),
   item_tfms=RandomResizedCrop(128, min_scale=0.5),
   batch_tfms=aug_transforms(),
   )


dls = fields.dataloaders(path,bs = 5)


dls.vocab


dls.show_batch()


learn = vision_learner(dls, resnet34 , metrics = [error_rate, accuracy])


learn.fine_tune(4,base_lr=0.001)


interp = ClassificationInterpretation.from_learner(learn)
interp.plot_confusion_matrix()


# cleaner = ImageClassifierCleaner(learn)


# cleaner


objs = iter(os.listdir(Path(root_dir)/"unlabelled"))


learn.predict(Path(root_dir)/"unlabelled"/next(objs))





def one_batch(learn, iterator, no_items = 10):
    return [learn.predict(os.listdir(Path(root_dir)/"unlabelled"/next(iterator))) for _ in range(no_items)]


one_batch(learn, objs, 10)


def predict_multiple(items, no)


# def run_iter_process(learn):
import qsl
from IPython.display import display



labeler = qsl.MediaLabeler(
    items=[















